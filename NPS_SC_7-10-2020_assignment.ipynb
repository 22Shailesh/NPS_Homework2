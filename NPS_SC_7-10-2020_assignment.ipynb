{
 "cells": [
  {
   "cell_type": "markdown",
   "metadata": {},
   "source": [
    "**Mini Assignment:**\n",
    "\n",
    "Create a DNA string of 10,000 characters and count the following: A, T, G, C, all combinations of two characters, and all combinations of three characters. "
   ]
  },
  {
   "cell_type": "code",
   "execution_count": 15,
   "metadata": {},
   "outputs": [
    {
     "name": "stdout",
     "output_type": "stream",
     "text": [
      "DNA.count(A)= 2534\n",
      "DNA.count(T)= 2410\n",
      "DNA.count(G)= 2557\n",
      "DNA.count(C)= 2499\n",
      "DNA.count(AT)= 584\n",
      "DNA.count(AG)= 655\n",
      "DNA.count(AC)= 624\n",
      "DNA.count(TG)= 610\n",
      "DNA.count(TC)= 614\n",
      "DNA.count(GC)= 643\n",
      "DNA.count(ATG)= 144\n",
      "DNA.count(AGC)= 166\n",
      "DNA.count(ATC)= 140\n",
      "DNA.count(TGC)= 138\n"
     ]
    }
   ],
   "source": [
    "import random\n",
    "\n",
    "R = [random.choice(['A','T','G','C']) for i in range (10000)]\n",
    "# Creates a list of 100000 elements with ine of the four alphabets randomly chosen.\n",
    "\n",
    "\n",
    "DNA = ''.join(R)\n",
    "# joins the randomly chosen alphabets in the above step\n",
    "\n",
    "\n",
    "# to print each quantity\n",
    "\n",
    "print('DNA.count(A)=', DNA.count('A'))\n",
    "print('DNA.count(T)=', DNA.count('T'))\n",
    "print('DNA.count(G)=', DNA.count('G'))\n",
    "print('DNA.count(C)=', DNA.count('C'))\n",
    "print('DNA.count(AT)=', DNA.count('AT'))\n",
    "print('DNA.count(AG)=', DNA.count('AG'))\n",
    "print('DNA.count(AC)=', DNA.count('AC'))\n",
    "print('DNA.count(TG)=', DNA.count('TG'))\n",
    "print('DNA.count(TC)=', DNA.count('TC'))\n",
    "print('DNA.count(GC)=', DNA.count('GC'))\n",
    "print('DNA.count(ATG)=', DNA.count('ATG'))\n",
    "print('DNA.count(AGC)=', DNA.count('AGC'))\n",
    "print('DNA.count(ATC)=', DNA.count('ATC'))\n",
    "print('DNA.count(TGC)=', DNA.count('TGC'))"
   ]
  },
  {
   "cell_type": "code",
   "execution_count": null,
   "metadata": {},
   "outputs": [],
   "source": []
  },
  {
   "cell_type": "code",
   "execution_count": null,
   "metadata": {},
   "outputs": [],
   "source": []
  },
  {
   "cell_type": "code",
   "execution_count": null,
   "metadata": {},
   "outputs": [],
   "source": []
  }
 ],
 "metadata": {
  "kernelspec": {
   "display_name": "Python 3",
   "language": "python",
   "name": "python3"
  },
  "language_info": {
   "codemirror_mode": {
    "name": "ipython",
    "version": 3
   },
   "file_extension": ".py",
   "mimetype": "text/x-python",
   "name": "python",
   "nbconvert_exporter": "python",
   "pygments_lexer": "ipython3",
   "version": "3.7.6"
  }
 },
 "nbformat": 4,
 "nbformat_minor": 4
}
